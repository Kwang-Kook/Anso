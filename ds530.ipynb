{
  "nbformat": 4,
  "nbformat_minor": 0,
  "metadata": {
    "colab": {
      "name": "ds530.ipynb",
      "version": "0.3.2",
      "provenance": [],
      "collapsed_sections": [],
      "include_colab_link": true
    },
    "kernelspec": {
      "name": "python3",
      "display_name": "Python 3"
    }
  },
  "cells": [
    {
      "cell_type": "markdown",
      "metadata": {
        "id": "view-in-github",
        "colab_type": "text"
      },
      "source": [
        "<a href=\"https://colab.research.google.com/github/Kwang-Kook/Anso/blob/master/ds530.ipynb\" target=\"_parent\"><img src=\"https://colab.research.google.com/assets/colab-badge.svg\" alt=\"Open In Colab\"/></a>"
      ]
    },
    {
      "cell_type": "markdown",
      "metadata": {
        "id": "jPZ27ZnuR0J2",
        "colab_type": "text"
      },
      "source": [
        "최초예제\n",
        "  - shift enter - 다음셀로 이동\n",
        "  - ctrl enter - 현재 셀러 머뭄"
      ]
    },
    {
      "cell_type": "code",
      "metadata": {
        "id": "stoqn1qLRUWG",
        "colab_type": "code",
        "colab": {}
      },
      "source": [
        "import pandas as pd\n",
        "import numpy as np\n",
        "import matplotlib.pyplot as plt"
      ],
      "execution_count": 0,
      "outputs": []
    },
    {
      "cell_type": "code",
      "metadata": {
        "id": "6Pjdy3ZhRpH0",
        "colab_type": "code",
        "outputId": "06b17bb4-b7c6-464f-bc64-becd9cb1bfeb",
        "colab": {
          "base_uri": "https://localhost:8080/",
          "height": 35
        }
      },
      "source": [
        "x = range(10)\n",
        "print(x)"
      ],
      "execution_count": 0,
      "outputs": [
        {
          "output_type": "stream",
          "text": [
            "range(0, 10)\n"
          ],
          "name": "stdout"
        }
      ]
    },
    {
      "cell_type": "code",
      "metadata": {
        "id": "SnaPZlc9SyKa",
        "colab_type": "code",
        "outputId": "7dfb5d08-ac33-4133-d85c-0494520d0ba3",
        "colab": {
          "base_uri": "https://localhost:8080/",
          "height": 35
        }
      },
      "source": [
        "type(x)"
      ],
      "execution_count": 0,
      "outputs": [
        {
          "output_type": "execute_result",
          "data": {
            "text/plain": [
              "range"
            ]
          },
          "metadata": {
            "tags": []
          },
          "execution_count": 6
        }
      ]
    },
    {
      "cell_type": "code",
      "metadata": {
        "id": "s-iaAgrcSAO0",
        "colab_type": "code",
        "outputId": "1b6a32ea-f92b-4cb4-da06-c4d257895d40",
        "colab": {
          "base_uri": "https://localhost:8080/",
          "height": 143
        }
      },
      "source": [
        "for i in range(1,20,3) :\n",
        "  print(i*i)"
      ],
      "execution_count": 0,
      "outputs": [
        {
          "output_type": "stream",
          "text": [
            "1\n",
            "16\n",
            "49\n",
            "100\n",
            "169\n",
            "256\n",
            "361\n"
          ],
          "name": "stdout"
        }
      ]
    },
    {
      "cell_type": "code",
      "metadata": {
        "id": "hSFAjy26SEOg",
        "colab_type": "code",
        "outputId": "da53f1eb-7136-430c-fc18-1728aa958ed2",
        "colab": {
          "base_uri": "https://localhost:8080/",
          "height": 35
        }
      },
      "source": [
        "y = np.arange(240)\n",
        "z = y.reshape(-1,2,2)\n",
        "z.shape"
      ],
      "execution_count": 0,
      "outputs": [
        {
          "output_type": "execute_result",
          "data": {
            "text/plain": [
              "(60, 2, 2)"
            ]
          },
          "metadata": {
            "tags": []
          },
          "execution_count": 37
        }
      ]
    },
    {
      "cell_type": "code",
      "metadata": {
        "id": "McP6kzZ9TSDd",
        "colab_type": "code",
        "outputId": "02095344-3d50-4b0c-c584-7ab1b756f46e",
        "colab": {
          "base_uri": "https://localhost:8080/",
          "height": 3239
        }
      },
      "source": [
        "z"
      ],
      "execution_count": 0,
      "outputs": [
        {
          "output_type": "execute_result",
          "data": {
            "text/plain": [
              "array([[[  0,   1],\n",
              "        [  2,   3]],\n",
              "\n",
              "       [[  4,   5],\n",
              "        [  6,   7]],\n",
              "\n",
              "       [[  8,   9],\n",
              "        [ 10,  11]],\n",
              "\n",
              "       [[ 12,  13],\n",
              "        [ 14,  15]],\n",
              "\n",
              "       [[ 16,  17],\n",
              "        [ 18,  19]],\n",
              "\n",
              "       [[ 20,  21],\n",
              "        [ 22,  23]],\n",
              "\n",
              "       [[ 24,  25],\n",
              "        [ 26,  27]],\n",
              "\n",
              "       [[ 28,  29],\n",
              "        [ 30,  31]],\n",
              "\n",
              "       [[ 32,  33],\n",
              "        [ 34,  35]],\n",
              "\n",
              "       [[ 36,  37],\n",
              "        [ 38,  39]],\n",
              "\n",
              "       [[ 40,  41],\n",
              "        [ 42,  43]],\n",
              "\n",
              "       [[ 44,  45],\n",
              "        [ 46,  47]],\n",
              "\n",
              "       [[ 48,  49],\n",
              "        [ 50,  51]],\n",
              "\n",
              "       [[ 52,  53],\n",
              "        [ 54,  55]],\n",
              "\n",
              "       [[ 56,  57],\n",
              "        [ 58,  59]],\n",
              "\n",
              "       [[ 60,  61],\n",
              "        [ 62,  63]],\n",
              "\n",
              "       [[ 64,  65],\n",
              "        [ 66,  67]],\n",
              "\n",
              "       [[ 68,  69],\n",
              "        [ 70,  71]],\n",
              "\n",
              "       [[ 72,  73],\n",
              "        [ 74,  75]],\n",
              "\n",
              "       [[ 76,  77],\n",
              "        [ 78,  79]],\n",
              "\n",
              "       [[ 80,  81],\n",
              "        [ 82,  83]],\n",
              "\n",
              "       [[ 84,  85],\n",
              "        [ 86,  87]],\n",
              "\n",
              "       [[ 88,  89],\n",
              "        [ 90,  91]],\n",
              "\n",
              "       [[ 92,  93],\n",
              "        [ 94,  95]],\n",
              "\n",
              "       [[ 96,  97],\n",
              "        [ 98,  99]],\n",
              "\n",
              "       [[100, 101],\n",
              "        [102, 103]],\n",
              "\n",
              "       [[104, 105],\n",
              "        [106, 107]],\n",
              "\n",
              "       [[108, 109],\n",
              "        [110, 111]],\n",
              "\n",
              "       [[112, 113],\n",
              "        [114, 115]],\n",
              "\n",
              "       [[116, 117],\n",
              "        [118, 119]],\n",
              "\n",
              "       [[120, 121],\n",
              "        [122, 123]],\n",
              "\n",
              "       [[124, 125],\n",
              "        [126, 127]],\n",
              "\n",
              "       [[128, 129],\n",
              "        [130, 131]],\n",
              "\n",
              "       [[132, 133],\n",
              "        [134, 135]],\n",
              "\n",
              "       [[136, 137],\n",
              "        [138, 139]],\n",
              "\n",
              "       [[140, 141],\n",
              "        [142, 143]],\n",
              "\n",
              "       [[144, 145],\n",
              "        [146, 147]],\n",
              "\n",
              "       [[148, 149],\n",
              "        [150, 151]],\n",
              "\n",
              "       [[152, 153],\n",
              "        [154, 155]],\n",
              "\n",
              "       [[156, 157],\n",
              "        [158, 159]],\n",
              "\n",
              "       [[160, 161],\n",
              "        [162, 163]],\n",
              "\n",
              "       [[164, 165],\n",
              "        [166, 167]],\n",
              "\n",
              "       [[168, 169],\n",
              "        [170, 171]],\n",
              "\n",
              "       [[172, 173],\n",
              "        [174, 175]],\n",
              "\n",
              "       [[176, 177],\n",
              "        [178, 179]],\n",
              "\n",
              "       [[180, 181],\n",
              "        [182, 183]],\n",
              "\n",
              "       [[184, 185],\n",
              "        [186, 187]],\n",
              "\n",
              "       [[188, 189],\n",
              "        [190, 191]],\n",
              "\n",
              "       [[192, 193],\n",
              "        [194, 195]],\n",
              "\n",
              "       [[196, 197],\n",
              "        [198, 199]],\n",
              "\n",
              "       [[200, 201],\n",
              "        [202, 203]],\n",
              "\n",
              "       [[204, 205],\n",
              "        [206, 207]],\n",
              "\n",
              "       [[208, 209],\n",
              "        [210, 211]],\n",
              "\n",
              "       [[212, 213],\n",
              "        [214, 215]],\n",
              "\n",
              "       [[216, 217],\n",
              "        [218, 219]],\n",
              "\n",
              "       [[220, 221],\n",
              "        [222, 223]],\n",
              "\n",
              "       [[224, 225],\n",
              "        [226, 227]],\n",
              "\n",
              "       [[228, 229],\n",
              "        [230, 231]],\n",
              "\n",
              "       [[232, 233],\n",
              "        [234, 235]],\n",
              "\n",
              "       [[236, 237],\n",
              "        [238, 239]]])"
            ]
          },
          "metadata": {
            "tags": []
          },
          "execution_count": 40
        }
      ]
    },
    {
      "cell_type": "code",
      "metadata": {
        "id": "_9u-YtEAUnaa",
        "colab_type": "code",
        "outputId": "28969fd9-6c2f-456f-bad9-ffc1250e2c89",
        "colab": {
          "base_uri": "https://localhost:8080/",
          "height": 35
        }
      },
      "source": [
        "!pwd"
      ],
      "execution_count": 0,
      "outputs": [
        {
          "output_type": "stream",
          "text": [
            "/content\n"
          ],
          "name": "stdout"
        }
      ]
    },
    {
      "cell_type": "code",
      "metadata": {
        "id": "PBCJgULrV4yN",
        "colab_type": "code",
        "colab": {}
      },
      "source": [
        ""
      ],
      "execution_count": 0,
      "outputs": []
    }
  ]
}